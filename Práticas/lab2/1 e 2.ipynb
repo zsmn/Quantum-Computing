{
 "cells": [
  {
   "cell_type": "code",
   "execution_count": 1,
   "metadata": {},
   "outputs": [],
   "source": [
    "from qiskit import *\n",
    "from sympy import *\n",
    "import numpy as np\n",
    "from qiskit.circuit.library.standard_gates import U3Gate\n",
    "from qiskit.circuit.library.standard_gates import XGate"
   ]
  },
  {
   "cell_type": "code",
   "execution_count": 144,
   "metadata": {},
   "outputs": [],
   "source": [
    "def rzryrz(U):\n",
    "    '''\n",
    "    Lab2 - questão 1\n",
    "    :param U: matriz unitária 2 x 2\n",
    "    :return: [alpha, beta, gamma e delta]\n",
    "            U = e^(1j * alpha) * Rz(beta) * Ry(gamma) * Rz(delta)\n",
    "    '''\n",
    "\n",
    "    # -----------------\n",
    "    # Seu código aqui\n",
    "\n",
    "    # [ e^(i * x00) * cos(theta)    -e^(i * x01) * sin(theta) ]\n",
    "    # [ e^(i * x01) * sin(theta)     e^(i * x11) * cos(theta) ]\n",
    "    \n",
    "    # Transformando a matriz em array\n",
    "    Uarr = np.asarray(U).reshape(-1)\n",
    "    \n",
    "    # Pegando r, theta e gamma\n",
    "    r = np.abs(Uarr[0])\n",
    "    theta = np.arccos(r)\n",
    "    gamma = 2 * theta\n",
    "    \n",
    "    # descobrindo x00\n",
    "    x00 = np.angle(Uarr[0])\n",
    "    x11 = np.angle(Uarr[3])\n",
    "    \n",
    "    divVal = np.sin(theta)\n",
    "    if(divVal == 0):\n",
    "        # tratando sin = 0\n",
    "        # a - b/2 - d/2 = x00\n",
    "        # a + b/2 + d/2 = x11\n",
    "        \n",
    "        # simplificando:\n",
    "        # a - x = x00\n",
    "        # a + x = x11\n",
    "        \n",
    "        coef = np.array([[1, -1], [1, 1]])\n",
    "        ig   = np.array([x00, x11])\n",
    "        [alpha, x] = np.linalg.solve(coef, ig)\n",
    "        \n",
    "        # logo, podemos assumir que (b/2 + d/2) = x, entao beta = delta = x eh uma solucao\n",
    "        beta = x\n",
    "        delta = x\n",
    "    else:\n",
    "        x01 = np.angle(-Uarr[1])\n",
    "        x10 = np.angle(Uarr[2]) \n",
    "        coef = np.array([[1, -1/2, -1/2], [1, -1/2, 1/2], [1, 1/2, -1/2]])\n",
    "        ig   = np.array([x00, x01, x10])\n",
    "        res  = np.linalg.solve(coef, ig)\n",
    "        [alpha, beta, delta] = [res[0], res[1], res[2]]\n",
    "        \n",
    "\n",
    "    # -----------------\n",
    "    \n",
    "    print(\"a, b, g, d: \", [alpha, beta, gamma, delta])\n",
    "    \n",
    "    return [alpha, beta, gamma, delta]"
   ]
  },
  {
   "cell_type": "code",
   "execution_count": 163,
   "metadata": {},
   "outputs": [
    {
     "name": "stdout",
     "output_type": "stream",
     "text": [
      "a, b, g, d:  [0.39269908169872414, 0.39269908169872414, 0.0, 0.39269908169872414]\n"
     ]
    }
   ],
   "source": [
    "[alpha, beta, gamma, delta] = rzryrz([[1, 0], [0, np.e**(1j * np.pi/4)]])"
   ]
  },
  {
   "cell_type": "code",
   "execution_count": 164,
   "metadata": {},
   "outputs": [],
   "source": [
    "def Rz(theta):\n",
    "    return np.array([[np.e**(-1j*theta/2), 0],[0, np.e**(1j*theta/2)]])\n",
    "\n",
    "def Ry(theta):\n",
    "    return np.array([[np.cos(theta/2), -np.sin(theta/2)],[np.sin(theta/2), np.cos(theta/2)]])"
   ]
  },
  {
   "cell_type": "code",
   "execution_count": 165,
   "metadata": {},
   "outputs": [
    {
     "name": "stdout",
     "output_type": "stream",
     "text": [
      "[[1.        +5.55111512e-17j 0.        +0.00000000e+00j]\n",
      " [0.        +0.00000000e+00j 0.70710678+7.07106781e-01j]]\n"
     ]
    }
   ],
   "source": [
    "print(np.e**(alpha*1j) * (Rz(beta) @ Ry(gamma) @ Rz(delta)))"
   ]
  },
  {
   "cell_type": "code",
   "execution_count": 35,
   "metadata": {},
   "outputs": [],
   "source": [
    "######### questao 2"
   ]
  },
  {
   "cell_type": "code",
   "execution_count": 40,
   "metadata": {},
   "outputs": [],
   "source": [
    "def operador_controlado(V):\n",
    "    \n",
    "    ## matriz A = Rz(betta)Ry(gamma/2)\n",
    "    def mat_a(beta, gamma):\n",
    "        circuit = QuantumCircuit(1)\n",
    "\n",
    "        circuit.rz(beta, 0)\n",
    "        circuit.ry(gamma/2, 0)\n",
    "\n",
    "        A_gate = circuit.to_gate()\n",
    "        A_gate.name = \"A\"\n",
    "\n",
    "        return A_gate\n",
    "\n",
    "    ## matriz B = Ry(-gamma/2)Rz(-(delta + beta)/2)\n",
    "    def mat_b(beta, delta, gamma):\n",
    "        circuit = QuantumCircuit(1)\n",
    "\n",
    "        circuit.ry(-gamma/2, 0)\n",
    "        circuit.rz(-(delta + beta)/2, 0)\n",
    "\n",
    "        B_gate = circuit.to_gate()\n",
    "        B_gate.name = \"B\"\n",
    "\n",
    "        return B_gate\n",
    "\n",
    "    ## matriz C = Rz((delta - beta)/2)\n",
    "    def mat_c(beta, delta):\n",
    "        circuit = QuantumCircuit(1)\n",
    "\n",
    "        circuit.rz((delta - beta)/2, 0)\n",
    "\n",
    "        C_gate = circuit.to_gate()\n",
    "        C_gate.name = \"C\"\n",
    "\n",
    "        return C_gate\n",
    "\n",
    "    ## Pegando parametros para V\n",
    "    [alpha, beta, gamma, delta] = rzryrz(V)\n",
    "    \n",
    "    ## Circuito\n",
    "    circuit = QuantumCircuit(2)\n",
    "    \n",
    "    # Matriz C\n",
    "    circuit.append(mat_c(beta, delta), [1])\n",
    "    circuit.cx(0, 1)\n",
    "    \n",
    "    # Matriz B\n",
    "    circuit.append(mat_b(beta, delta, gamma), [1])\n",
    "    circuit.cx(0, 1)\n",
    "    \n",
    "    # Matriz A\n",
    "    circuit.append(mat_a(beta, gamma), [1])\n",
    "    circuit.append(U3Gate(0, 0, alpha).control(1, None, 1), [0, 1])\n",
    "    \n",
    "    return circuit\n"
   ]
  },
  {
   "cell_type": "code",
   "execution_count": 41,
   "metadata": {},
   "outputs": [
    {
     "name": "stdout",
     "output_type": "stream",
     "text": [
      "a, b, g, d:  [0.0, 0.0, 0.0, 0.0]\n"
     ]
    },
    {
     "data": {
      "image/png": "[encoded data removed]",
      "text/plain": [
       "<Figure size 501.832x144.48 with 1 Axes>"
      ]
     },
     "execution_count": 41,
     "metadata": {},
     "output_type": "execute_result"
    }
   ],
   "source": [
    "circuit = operador_controlado([[1, 0], [0, 1]])\n",
    "circuit.draw('mpl')"
   ]
  },
  {
   "cell_type": "code",
   "execution_count": null,
   "metadata": {},
   "outputs": [],
   "source": []
  }
 ],
 "metadata": {
  "kernelspec": {
   "display_name": "Python 3",
   "language": "python",
   "name": "python3"
  },
  "language_info": {
   "codemirror_mode": {
    "name": "ipython",
    "version": 3
   },
   "file_extension": ".py",
   "mimetype": "text/x-python",
   "name": "python",
   "nbconvert_exporter": "python",
   "pygments_lexer": "ipython3",
   "version": "3.8.3"
  }
 },
 "nbformat": 4,
 "nbformat_minor": 4
}
