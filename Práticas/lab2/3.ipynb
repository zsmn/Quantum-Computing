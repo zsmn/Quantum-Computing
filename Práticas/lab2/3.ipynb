{
 "cells": [
  {
   "cell_type": "code",
   "execution_count": 13,
   "metadata": {},
   "outputs": [],
   "source": [
    "from qiskit import *\n",
    "import numpy as np"
   ]
  },
  {
   "cell_type": "code",
   "execution_count": 22,
   "metadata": {},
   "outputs": [
    {
     "data": {
      "image/png": "[encoded data removed]",
      "text/plain": [
       "<Figure size 889.284x204.68 with 1 Axes>"
      ]
     },
     "execution_count": 22,
     "metadata": {},
     "output_type": "execute_result"
    }
   ],
   "source": [
    "controles = QuantumRegister(2)\n",
    "alvo = QuantumRegister(1)\n",
    "\n",
    "\n",
    "circuit = QuantumCircuit(controles, alvo)\n",
    "\n",
    "## coloquei identidades porque o circuito não estava ficando na ordem\n",
    "\n",
    "# 1 camada\n",
    "circuit.i(0)\n",
    "circuit.i(1)\n",
    "circuit.h(2)\n",
    "\n",
    "# 2 camada\n",
    "circuit.i(0)\n",
    "circuit.cx(1, 2)\n",
    "\n",
    "# 3 camada\n",
    "circuit.i(0)\n",
    "circuit.i(1)\n",
    "circuit.tdg(2)\n",
    "\n",
    "# 4 camada\n",
    "circuit.cx(0, 2)\n",
    "\n",
    "# 5 camada\n",
    "circuit.i(0)\n",
    "circuit.i(1)\n",
    "circuit.t(2)\n",
    "\n",
    "# 6 camada\n",
    "circuit.i(0)\n",
    "circuit.cx(1, 2)\n",
    "\n",
    "# 7 camada\n",
    "circuit.i(0)\n",
    "circuit.i(1)\n",
    "circuit.tdg(2)\n",
    "\n",
    "# 8 camada\n",
    "circuit.cx(0, 2)\n",
    "\n",
    "# 9 camada\n",
    "circuit.i(0)\n",
    "circuit.t(1)\n",
    "circuit.t(2)\n",
    "\n",
    "# 10 camada\n",
    "circuit.cx(0, 1)\n",
    "circuit.h(2)\n",
    "\n",
    "# 11 camada\n",
    "circuit.t(0)\n",
    "circuit.tdg(1)\n",
    "circuit.i(2)\n",
    "\n",
    "# 12 camada\n",
    "circuit.cx(0, 1)\n",
    "circuit.i(2)\n",
    "\n",
    "circuit.draw('mpl')"
   ]
  },
  {
   "cell_type": "code",
   "execution_count": null,
   "metadata": {},
   "outputs": [],
   "source": []
  }
 ],
 "metadata": {
  "kernelspec": {
   "display_name": "Python 3",
   "language": "python",
   "name": "python3"
  },
  "language_info": {
   "codemirror_mode": {
    "name": "ipython",
    "version": 3
   },
   "file_extension": ".py",
   "mimetype": "text/x-python",
   "name": "python",
   "nbconvert_exporter": "python",
   "pygments_lexer": "ipython3",
   "version": "3.8.3"
  }
 },
 "nbformat": 4,
 "nbformat_minor": 4
}
