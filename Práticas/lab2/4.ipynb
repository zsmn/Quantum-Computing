{
 "cells": [
  {
   "cell_type": "code",
   "execution_count": 20,
   "metadata": {},
   "outputs": [],
   "source": [
    "from qiskit import *\n",
    "import numpy as np\n",
    "from qiskit.circuit.library.standard_gates import RYGate"
   ]
  },
  {
   "cell_type": "code",
   "execution_count": null,
   "metadata": {},
   "outputs": [],
   "source": []
  },
  {
   "cell_type": "code",
   "execution_count": 2,
   "metadata": {},
   "outputs": [],
   "source": [
    "import math\n",
    "\n",
    "vetor = [math.sqrt(0.03), math.sqrt(0.07), math.sqrt(0.15), math.sqrt(0.05), math.sqrt(0.1), math.sqrt(0.3), math.sqrt(0.2), math.sqrt(0.1)]\n",
    "normas = []\n",
    "\n",
    "for i in range(0, 8, 2):\n",
    "    normas.append(math.sqrt(vetor[i]**2 + vetor[i+1]**2))\n",
    "\n",
    "for i in range(0, 4, 2):\n",
    "    normas.append(math.sqrt(normas[i]**2 + normas[i+1]**2))\n",
    "\n",
    "normas.append(math.sqrt(normas[len(normas) - 1]**2 + normas[len(normas) - 2]**2))\n",
    "\n",
    "alphas = []\n",
    "alphas.append(2 * math.asin(normas[5] / normas[6]))\n",
    "alphas.append(2 * math.asin(normas[1] / normas[4]))\n",
    "alphas.append(2 * math.asin(normas[3] / normas[5]))\n",
    "\n",
    "for i in range(0, 4, 1):\n",
    "    alphas.append(2 * math.asin(vetor[1 + (2 * i)] / normas[i]))\n",
    "\n",
    "#print(alphas)\n",
    "#print(normas)"
   ]
  },
  {
   "cell_type": "code",
   "execution_count": 38,
   "metadata": {},
   "outputs": [
    {
     "data": {
      "image/png": "[encoded data removed]",
      "text/plain": [
       "<Figure size 562.177x204.68 with 1 Axes>"
      ]
     },
     "execution_count": 38,
     "metadata": {},
     "output_type": "execute_result"
    }
   ],
   "source": [
    "# circuito quantico\n",
    "\n",
    "q = QuantumRegister(3, name='q')\n",
    "circuit = QuantumCircuit(q)\n",
    "\n",
    "# camada 1\n",
    "circuit.ry(alphas[0], 0)\n",
    "circuit.i(1)\n",
    "circuit.i(2)\n",
    "\n",
    "# camada 2\n",
    "circuit.append(qiskit.circuit.library.CRYGate(alphas[1], None, 0), [0, 1], [])\n",
    "circuit.i(2)\n",
    "\n",
    "# camada 3\n",
    "circuit.append(qiskit.circuit.library.CRYGate(alphas[2], None, 1), [0, 1], [])\n",
    "circuit.i(2)\n",
    "\n",
    "# camada 4\n",
    "circuit.append(RYGate(alphas[3]).control(2, None, '00'), [1, 0, 2])\n",
    "\n",
    "# camada 5\n",
    "circuit.append(RYGate(alphas[4]).control(2, None, '01'), [1, 0, 2])\n",
    "\n",
    "# camada 6\n",
    "circuit.append(RYGate(alphas[5]).control(2, None, '10'), [1, 0, 2])\n",
    "\n",
    "# camada 7\n",
    "circuit.append(RYGate(alphas[6]).control(2, None, '11'), [1, 0, 2])\n",
    "\n",
    "circuit.draw('mpl')"
   ]
  },
  {
   "cell_type": "code",
   "execution_count": 39,
   "metadata": {},
   "outputs": [
    {
     "name": "stdout",
     "output_type": "stream",
     "text": [
      "Estado gerado pelo circuito:  [0.17320508+0.j 0.31622777+0.j 0.38729833+0.j 0.4472136 +0.j\n",
      " 0.26457513+0.j 0.54772256+0.j 0.2236068 +0.j 0.31622777+0.j]\n"
     ]
    }
   ],
   "source": [
    "# rodando pra checar\n",
    "backend = Aer.get_backend('statevector_simulator')\n",
    "job = execute(circuit, backend)\n",
    "result = job.result()\n",
    "\n",
    "print('Estado gerado pelo circuito: ', result.get_statevector())"
   ]
  },
  {
   "cell_type": "code",
   "execution_count": 40,
   "metadata": {},
   "outputs": [
    {
     "name": "stdout",
     "output_type": "stream",
     "text": [
      "[0.17320508075688773, 0.2645751311064591, 0.3872983346207417, 0.22360679774997896, 0.31622776601683794, 0.5477225575051661, 0.4472135954999579, 0.31622776601683794]\n"
     ]
    }
   ],
   "source": [
    "print(vetor)"
   ]
  },
  {
   "cell_type": "code",
   "execution_count": null,
   "metadata": {},
   "outputs": [],
   "source": []
  }
 ],
 "metadata": {
  "kernelspec": {
   "display_name": "Python 3",
   "language": "python",
   "name": "python3"
  },
  "language_info": {
   "codemirror_mode": {
    "name": "ipython",
    "version": 3
   },
   "file_extension": ".py",
   "mimetype": "text/x-python",
   "name": "python",
   "nbconvert_exporter": "python",
   "pygments_lexer": "ipython3",
   "version": "3.8.3"
  }
 },
 "nbformat": 4,
 "nbformat_minor": 4
}
