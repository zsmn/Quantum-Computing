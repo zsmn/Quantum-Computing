{
 "cells": [
  {
   "cell_type": "markdown",
   "metadata": {},
   "source": [
    "# Lab 1"
   ]
  },
  {
   "cell_type": "markdown",
   "metadata": {},
   "source": [
    "### 1. Escreva um circuito quântico que gere o estado $\\frac{i}{\\sqrt{3}}|0\\rangle + \\sqrt{\\frac{2i}{3}}|1\\rangle$ utilizando o operador $U_3$ descrito [aqui](https://qiskit.org/textbook/ch-states/single-qubit-gates.html#generalU3)."
   ]
  },
  {
   "cell_type": "code",
   "execution_count": 1,
   "metadata": {},
   "outputs": [
    {
     "data": {
      "image/png": "[encoded data removed]",
      "text/plain": [
       "<Figure size 308.106x84.28 with 1 Axes>"
      ]
     },
     "execution_count": 1,
     "metadata": {},
     "output_type": "execute_result"
    }
   ],
   "source": [
    "import numpy as np\n",
    "from qiskit import execute, Aer, ClassicalRegister, QuantumRegister, QuantumCircuit\n",
    "from inicializa_estado_Bell import inicializa_estado_Bell\n",
    "\n",
    "q1 = QuantumRegister(1, name='q')\n",
    "circuito1 = QuantumCircuit(q1)\n",
    "\n",
    "circuito1.x(0)\n",
    "circuito1.u3(2*(2*np.pi - np.arccos(np.sqrt(2/3))), -np.pi/4, np.pi/2, 0)\n",
    "\n",
    "# theta  = 2*(2pi * np.arccos(np.sqrt(2/3)))\n",
    "# phi    = -np.pi / 4\n",
    "# lambda = np.pi / 2\n",
    "\n",
    "circuito1.draw('mpl')\n"
   ]
  },
  {
   "cell_type": "code",
   "execution_count": 2,
   "metadata": {},
   "outputs": [
    {
     "name": "stdout",
     "output_type": "stream",
     "text": [
      "Estado gerado pelo circuito:  [3.53525080e-17+0.57735027j 5.77350269e-01+0.57735027j]\n"
     ]
    },
    {
     "data": {
      "text/plain": [
       "True"
      ]
     },
     "execution_count": 2,
     "metadata": {},
     "output_type": "execute_result"
    }
   ],
   "source": [
    "backend = Aer.get_backend('statevector_simulator')\n",
    "job = execute(circuito1, backend)\n",
    "result = job.result()\n",
    "print('Estado gerado pelo circuito: ', result.get_statevector())\n",
    "\n",
    "np.allclose(result.get_statevector(), [1j/np.sqrt(3), np.sqrt(2*1j/3)])\n",
    "    \n"
   ]
  },
  {
   "cell_type": "markdown",
   "metadata": {},
   "source": [
    "### 2. Escreva um circuito que produza o estado $\\frac{|000\\rangle+|111\\rangle}{\\sqrt{2}}$"
   ]
  },
  {
   "cell_type": "code",
   "execution_count": 3,
   "metadata": {},
   "outputs": [
    {
     "data": {
      "text/plain": [
       "<qiskit.circuit.instructionset.InstructionSet at 0x7f935a7c8dc0>"
      ]
     },
     "execution_count": 3,
     "metadata": {},
     "output_type": "execute_result"
    }
   ],
   "source": [
    "q2 = QuantumRegister(3, name='q')\n",
    "circuito2 = QuantumCircuit(q2)\n",
    "\n",
    "circuito2.h(0)\n",
    "circuito2.cx(0, 1)\n",
    "circuito2.cx(0, 2)"
   ]
  },
  {
   "cell_type": "code",
   "execution_count": 4,
   "metadata": {},
   "outputs": [
    {
     "name": "stdout",
     "output_type": "stream",
     "text": [
      "Estado gerado pelo circuito:  [0.70710678+0.j 0.        +0.j 0.        +0.j 0.        +0.j\n",
      " 0.        +0.j 0.        +0.j 0.        +0.j 0.70710678+0.j]\n"
     ]
    },
    {
     "data": {
      "text/plain": [
       "True"
      ]
     },
     "execution_count": 4,
     "metadata": {},
     "output_type": "execute_result"
    }
   ],
   "source": [
    "backend = Aer.get_backend('statevector_simulator')\n",
    "job = execute(circuito2, backend)\n",
    "result = job.result()\n",
    "print('Estado gerado pelo circuito: ', result.get_statevector())\n",
    "\n",
    "np.allclose(result.get_statevector(), [1/np.sqrt(2), 0, 0, 0, 0, 0, 0, 1/np.sqrt(2)])"
   ]
  },
  {
   "cell_type": "markdown",
   "metadata": {},
   "source": [
    "### 3. Problema de Deutsch\n",
    "Escreva um circuito $U_f$ para as funções f1, f2, f3 e f4 descritas na aula sobre o problema de Deutsch. Execute o algoritmo de Deutsch para cada uma das funções e verifique sua resposta."
   ]
  },
  {
   "cell_type": "code",
   "execution_count": 26,
   "metadata": {
    "scrolled": true
   },
   "outputs": [
    {
     "name": "stdout",
     "output_type": "stream",
     "text": [
      "<qiskit.result.result.Result object at 0x7f931b055940>\n"
     ]
    },
    {
     "data": {
      "image/png": "[encoded data removed]",
      "text/plain": [
       "<Figure size 504x360 with 1 Axes>"
      ]
     },
     "execution_count": 26,
     "metadata": {},
     "output_type": "execute_result"
    }
   ],
   "source": [
    "circuit = QuantumCircuit(2, 2)\n",
    "\n",
    "# ------\n",
    "# Uf (barreiras pra separar, descomentar a função que quer usar)\n",
    "# f(0) = 1 e f(1) = 0\n",
    "circuit.x(0)\n",
    "circuit.cnot(0, 1)\n",
    "circuit.x(0)\n",
    "#-------\n",
    "\n",
    "circuit.measure(0, 0)\n",
    "circuit.measure(1, 1)\n",
    "\n",
    "simulator = Aer.get_backend('qasm_simulator')\n",
    "\n",
    "result = execute(circuit, backend=simulator).result()\n",
    "print(result) \n",
    "\n",
    "from qiskit.tools.visualization import plot_histogram\n",
    "\n",
    "circuit.draw('mpl')\n",
    "\n",
    "plot_histogram(result.get_counts())"
   ]
  },
  {
   "cell_type": "markdown",
   "metadata": {},
   "source": [
    "### 4. Base de Bell\n",
    "A base de Bell é formada pelos estados \n",
    "$|\\beta_{00}\\rangle =\\frac{|00\\rangle+|11\\rangle}{\\sqrt{2}}$, \n",
    "$|\\beta_{01}\\rangle =\\frac{|01\\rangle+|10\\rangle}{\\sqrt{2}}$, \n",
    "$|\\beta_{10}\\rangle =\\frac{|00\\rangle-|11\\rangle}{\\sqrt{2}}$, \n",
    "$|\\beta_{11}\\rangle =\\frac{|01\\rangle-|10\\rangle}{\\sqrt{2}}$. \n",
    "Construa um circuito para identificar um estado da base de Bell com apenas uma medição. O resultado da medição do circuito com entrada $|\\beta_{xy}\\rangle$ deverá ser o string binário $xy$."
   ]
  },
  {
   "cell_type": "code",
   "execution_count": 144,
   "metadata": {},
   "outputs": [
    {
     "data": {
      "text/plain": [
       "<qiskit.circuit.instructionset.InstructionSet at 0x7f6a07ad0b80>"
      ]
     },
     "execution_count": 144,
     "metadata": {},
     "output_type": "execute_result"
    }
   ],
   "source": [
    "q3 = QuantumRegister(2, 'q')\n",
    "c3 = ClassicalRegister(2, 'c')                            \n",
    "circuito3 = QuantumCircuit(q3, c3)\n",
    "\n",
    "# aqui estamos escolhendo o estado de Bell, 0 -> 00, 1->01, 2->10, 3->11. Você não deve utilizar \n",
    "# esta informação em sua solução.\n",
    "estado = 0\n",
    "circuito3.append(inicializa_estado_Bell(estado), q3)\n",
    "\n",
    "\n",
    "#--------------------\n",
    "#Seu código aqui\n",
    "\n",
    "circuito3.cx(0, 1)\n",
    "circuito3.h(0)\n",
    "\n",
    "#--------------------\n",
    "\n",
    "\n",
    "circuito3.measure(q3, c3)\n"
   ]
  },
  {
   "cell_type": "code",
   "execution_count": 145,
   "metadata": {},
   "outputs": [
    {
     "name": "stdout",
     "output_type": "stream",
     "text": [
      "{'00': 1024}\n",
      "resposta correta para o estado  0\n"
     ]
    }
   ],
   "source": [
    "backend = Aer.get_backend('qasm_simulator')\n",
    "job = execute(circuito3, backend)\n",
    "result = job.result()\n",
    "# print('Estado gerado pelo circuito: ', result.get_statevector())\n",
    "\n",
    "print(result.get_counts())\n",
    "\n",
    "if result.get_counts()[\"{0:0{fill}b}\".format(estado, fill=2)] == 1024:\n",
    "    print('resposta correta para o estado ', estado)\n",
    "else:\n",
    "    print('resposta incorreta para o estado ', estado)"
   ]
  },
  {
   "cell_type": "markdown",
   "metadata": {},
   "source": [
    "### 5. Decomposição RzRyRz\n",
    "Determine valores de alpha, beta, gamma e phi de modo que $e^{i alpha} R_z(beta)R_y(gamma)R_z(delta) = H$"
   ]
  },
  {
   "cell_type": "code",
   "execution_count": 146,
   "metadata": {},
   "outputs": [
    {
     "name": "stdout",
     "output_type": "stream",
     "text": [
      "[[ 0.70710678+0.00000000e+00j  0.70710678-8.65956056e-17j]\n",
      " [ 0.70710678+0.00000000e+00j -0.70710678+8.65956056e-17j]]\n"
     ]
    }
   ],
   "source": [
    "from gates import Rz, Ry\n",
    "\n",
    "alpha = np.pi/2\n",
    "beta = 0\n",
    "gamma = np.pi/2\n",
    "delta = np.pi\n",
    "\n",
    "\n",
    "print(np.e**(alpha*1j) * Rz(beta) @ Ry(gamma) @ Rz(delta))"
   ]
  },
  {
   "cell_type": "code",
   "execution_count": 147,
   "metadata": {},
   "outputs": [
    {
     "data": {
      "image/png": "[encoded data removed]",
      "text/plain": [
       "<Figure size 441.632x204.68 with 1 Axes>"
      ]
     },
     "execution_count": 147,
     "metadata": {},
     "output_type": "execute_result"
    }
   ],
   "source": [
    "circuito3.draw('mpl')"
   ]
  },
  {
   "cell_type": "code",
   "execution_count": null,
   "metadata": {},
   "outputs": [],
   "source": []
  }
 ],
 "metadata": {
  "kernelspec": {
   "display_name": "Python 3",
   "language": "python",
   "name": "python3"
  },
  "language_info": {
   "codemirror_mode": {
    "name": "ipython",
    "version": 3
   },
   "file_extension": ".py",
   "mimetype": "text/x-python",
   "name": "python",
   "nbconvert_exporter": "python",
   "pygments_lexer": "ipython3",
   "version": "3.8.3"
  }
 },
 "nbformat": 4,
 "nbformat_minor": 4
}
